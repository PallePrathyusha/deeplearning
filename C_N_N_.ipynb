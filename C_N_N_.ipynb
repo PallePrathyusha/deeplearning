{
  "nbformat": 4,
  "nbformat_minor": 0,
  "metadata": {
    "colab": {
      "provenance": [],
      "authorship_tag": "ABX9TyPRC0KGcxbfKizt2uCJ8dsF",
      "include_colab_link": true
    },
    "kernelspec": {
      "name": "python3",
      "display_name": "Python 3"
    },
    "language_info": {
      "name": "python"
    }
  },
  "cells": [
    {
      "cell_type": "markdown",
      "metadata": {
        "id": "view-in-github",
        "colab_type": "text"
      },
      "source": [
        "<a href=\"https://colab.research.google.com/github/PallePrathyusha/deeplearning/blob/main/C_N_N_.ipynb\" target=\"_parent\"><img src=\"https://colab.research.google.com/assets/colab-badge.svg\" alt=\"Open In Colab\"/></a>"
      ]
    },
    {
      "cell_type": "code",
      "execution_count": 1,
      "metadata": {
        "colab": {
          "base_uri": "https://localhost:8080/"
        },
        "id": "E6A4wkCPBPWN",
        "outputId": "30a83bb9-1850-41e4-989b-eace25043000"
      },
      "outputs": [
        {
          "output_type": "stream",
          "name": "stdout",
          "text": [
            "Downloading data from https://storage.googleapis.com/tensorflow/tf-keras-datasets/mnist.npz\n",
            "11490434/11490434 [==============================] - 0s 0us/step\n",
            "Epoch 1/10\n",
            "300/300 - 41s - loss: 0.3609 - accuracy: 0.8894 - 41s/epoch - 135ms/step\n",
            "Epoch 2/10\n",
            "300/300 - 39s - loss: 0.1008 - accuracy: 0.9701 - 39s/epoch - 130ms/step\n",
            "Epoch 3/10\n",
            "300/300 - 38s - loss: 0.0777 - accuracy: 0.9773 - 38s/epoch - 127ms/step\n",
            "Epoch 4/10\n",
            "300/300 - 37s - loss: 0.0613 - accuracy: 0.9817 - 37s/epoch - 124ms/step\n",
            "Epoch 5/10\n",
            "300/300 - 38s - loss: 0.0549 - accuracy: 0.9838 - 38s/epoch - 125ms/step\n",
            "Epoch 6/10\n",
            "300/300 - 38s - loss: 0.0468 - accuracy: 0.9861 - 38s/epoch - 127ms/step\n",
            "Epoch 7/10\n",
            "300/300 - 38s - loss: 0.0397 - accuracy: 0.9877 - 38s/epoch - 126ms/step\n",
            "Epoch 8/10\n",
            "300/300 - 37s - loss: 0.0371 - accuracy: 0.9882 - 37s/epoch - 123ms/step\n",
            "Epoch 9/10\n",
            "300/300 - 38s - loss: 0.0344 - accuracy: 0.9896 - 38s/epoch - 125ms/step\n",
            "Epoch 10/10\n",
            "300/300 - 38s - loss: 0.0309 - accuracy: 0.9903 - 38s/epoch - 127ms/step\n",
            "Test accuracy: 99.20%\n"
          ]
        }
      ],
      "source": [
        "#9 CNN\n",
        "import tensorflow as tf\n",
        "from tensorflow.keras.datasets import mnist\n",
        "from tensorflow.keras.models import Sequential\n",
        "from tensorflow.keras.layers import Conv2D, MaxPooling2D, Flatten, Dense, Dropout\n",
        "from tensorflow.keras.utils import to_categorical\n",
        "# Load and preprocess the dataset\n",
        "(x_train, y_train), (x_test, y_test) = mnist.load_data()\n",
        "x_train = x_train.reshape(x_train.shape[0], 28, 28, 1).astype('float32') / 255\n",
        "x_test = x_test.reshape(x_test.shape[0], 28, 28, 1).astype('float32') / 255\n",
        "y_train = to_categorical(y_train, 10)\n",
        "y_test = to_categorical(y_test, 10)\n",
        "# Build the CNN model\n",
        "model = Sequential()\n",
        "model.add(Conv2D(32, kernel_size=(3, 3), activation='relu', input_shape=(28, 28, 1)))\n",
        "model.add(MaxPooling2D(pool_size=(2, 2)))\n",
        "model.add(Conv2D(64, kernel_size=(3, 3), activation='relu'))\n",
        "model.add(MaxPooling2D(pool_size=(2, 2)))\n",
        "model.add(Flatten())\n",
        "model.add(Dense(128, activation='relu'))\n",
        "model.add(Dropout(0.5))\n",
        "model.add(Dense(10, activation='softmax'))\n",
        "model.compile(loss='categorical_crossentropy', optimizer='adam',metrics=['accuracy'])\n",
        "# Train the model\n",
        "model.fit(x_train, y_train, epochs=10,batch_size=200, verbose=2)\n",
        "# Evaluate the model\n",
        "test_loss, test_acc = model.evaluate(x_test, y_test, verbose=0)\n",
        "print(f'Test accuracy: {test_acc*100:.2f}%')"
      ]
    }
  ]
}
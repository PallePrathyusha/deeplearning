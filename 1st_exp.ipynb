{
  "nbformat": 4,
  "nbformat_minor": 0,
  "metadata": {
    "colab": {
      "provenance": [],
      "authorship_tag": "ABX9TyOi9YawQs5wnyUN0mCgSrLD",
      "include_colab_link": true
    },
    "kernelspec": {
      "name": "python3",
      "display_name": "Python 3"
    },
    "language_info": {
      "name": "python"
    }
  },
  "cells": [
    {
      "cell_type": "markdown",
      "metadata": {
        "id": "view-in-github",
        "colab_type": "text"
      },
      "source": [
        "<a href=\"https://colab.research.google.com/github/PallePrathyusha/deeplearning/blob/main/1st_exp.ipynb\" target=\"_parent\"><img src=\"https://colab.research.google.com/assets/colab-badge.svg\" alt=\"Open In Colab\"/></a>"
      ]
    },
    {
      "cell_type": "code",
      "source": [
        "from __future__ import print_function\n",
        "import tensorflow as tf\n",
        "print(\"TF imported with eager execution!\")\n",
        "print(\"TF already imported with eager execution!\")\n",
        "odd = tf.constant([1,3,5,7,9,11,13,15,17,19,21,23], dtype=tf.int32)\n",
        "print(\"odd:\", odd)\n",
        "ones = tf.ones([12], dtype=tf.int32)\n",
        "print(\"ones:\", ones)\n",
        "just_beyond_primes = tf.add(odd, ones)\n",
        "print(\"just_beyond_odd:\", just_beyond_odd)\n",
        "twos = tf.constant([2, 2, 2, 2, 2, 2, 2, 2, 2, 2, 2, 2], dtype=tf.int32)\n",
        "primes_doubled = odd * twos\n",
        "print(\"odd_doubled:\", primes_doubled)\n",
        "some_matrix = tf.constant([[1, 2, 3], [4, 5, 6],[7,8,9],[10,11,12]], dtype=tf.int32)\n",
        "print(some_matrix)\n",
        "some_matrix = tf.constant([[1, 2], [3,4],[5,6],[7,8],[9,10],[11,12],[13,14],[15,16]], dtype=tf.int32)\n",
        "print(some_matrix)\n",
        "print(\"\\nvalue of some_matrix is:\\n\", some_matrix.numpy())"
      ],
      "metadata": {
        "colab": {
          "base_uri": "https://localhost:8080/"
        },
        "id": "Rt87_b204ee-",
        "outputId": "639c8a04-2f57-4a88-b799-af70b480c3fc"
      },
      "execution_count": null,
      "outputs": [
        {
          "output_type": "stream",
          "name": "stdout",
          "text": [
            "TF imported with eager execution!\n",
            "TF already imported with eager execution!\n",
            "odd: tf.Tensor([ 1  3  5  7  9 11 13 15 17 19 21 23], shape=(12,), dtype=int32)\n",
            "ones: tf.Tensor([1 1 1 1 1 1 1 1 1 1 1 1], shape=(12,), dtype=int32)\n",
            "just_beyond_odd: tf.Tensor([ 2  4  6  8 10 12 14 16 18 20 22 24], shape=(12,), dtype=int32)\n",
            "odd_doubled: tf.Tensor([ 2  6 10 14 18 22 26 30 34 38 42 46], shape=(12,), dtype=int32)\n",
            "tf.Tensor(\n",
            "[[ 1  2  3]\n",
            " [ 4  5  6]\n",
            " [ 7  8  9]\n",
            " [10 11 12]], shape=(4, 3), dtype=int32)\n",
            "tf.Tensor(\n",
            "[[ 1  2]\n",
            " [ 3  4]\n",
            " [ 5  6]\n",
            " [ 7  8]\n",
            " [ 9 10]\n",
            " [11 12]\n",
            " [13 14]\n",
            " [15 16]], shape=(8, 2), dtype=int32)\n",
            "\n",
            "value of some_matrix is:\n",
            " [[ 1  2]\n",
            " [ 3  4]\n",
            " [ 5  6]\n",
            " [ 7  8]\n",
            " [ 9 10]\n",
            " [11 12]\n",
            " [13 14]\n",
            " [15 16]]\n"
          ]
        }
      ]
    }
  ]
}
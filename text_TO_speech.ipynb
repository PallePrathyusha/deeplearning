{
  "nbformat": 4,
  "nbformat_minor": 0,
  "metadata": {
    "colab": {
      "provenance": [],
      "authorship_tag": "ABX9TyNMs6QnZ17dxVhwfLB1golE",
      "include_colab_link": true
    },
    "kernelspec": {
      "name": "python3",
      "display_name": "Python 3"
    },
    "language_info": {
      "name": "python"
    }
  },
  "cells": [
    {
      "cell_type": "markdown",
      "metadata": {
        "id": "view-in-github",
        "colab_type": "text"
      },
      "source": [
        "<a href=\"https://colab.research.google.com/github/PallePrathyusha/deeplearning/blob/main/text_TO_speech.ipynb\" target=\"_parent\"><img src=\"https://colab.research.google.com/assets/colab-badge.svg\" alt=\"Open In Colab\"/></a>"
      ]
    },
    {
      "cell_type": "code",
      "execution_count": 6,
      "metadata": {
        "colab": {
          "base_uri": "https://localhost:8080/",
          "height": 197
        },
        "id": "ywVwLy4GDvdj",
        "outputId": "ab74d91a-b9bf-4f5c-97fa-e481eef68ff1"
      },
      "outputs": [
        {
          "output_type": "stream",
          "name": "stdout",
          "text": [
            "Requirement already satisfied: gTTS in /usr/local/lib/python3.10/dist-packages (2.4.0)\n",
            "Requirement already satisfied: requests<3,>=2.27 in /usr/local/lib/python3.10/dist-packages (from gTTS) (2.31.0)\n",
            "Requirement already satisfied: click<8.2,>=7.1 in /usr/local/lib/python3.10/dist-packages (from gTTS) (8.1.7)\n",
            "Requirement already satisfied: charset-normalizer<4,>=2 in /usr/local/lib/python3.10/dist-packages (from requests<3,>=2.27->gTTS) (3.3.2)\n",
            "Requirement already satisfied: idna<4,>=2.5 in /usr/local/lib/python3.10/dist-packages (from requests<3,>=2.27->gTTS) (3.6)\n",
            "Requirement already satisfied: urllib3<3,>=1.21.1 in /usr/local/lib/python3.10/dist-packages (from requests<3,>=2.27->gTTS) (2.0.7)\n",
            "Requirement already satisfied: certifi>=2017.4.17 in /usr/local/lib/python3.10/dist-packages (from requests<3,>=2.27->gTTS) (2023.11.17)\n"
          ]
        },
        {
          "output_type": "execute_result",
          "data": {
            "text/plain": [
              "<IPython.lib.display.Audio object>"
            ],
            "text/html": [
              "\n",
              "                <audio  controls=\"controls\" >\n",
              "                    <source src=\"data:audio/x-wav;base64,//NExAAAAANIAUAAAP8uOus7wGVf7ryCGnl/6e3K3f5A+JI2H/MHCEEA2LQCP557g9MYfL//kzXPdv89/PMOdTv/t/Gxg7PZX////2Uo25n//p61AcFVAVEHCsa4T+FA//NExFMRolZUAZk4AK9EHA1xo7eh686RSEMpCx6ADQpW5lT7moIJSsxRgnwwzof6juG6PIlZ496Q2d/i+nkOHe7HPa7zK+r1eo2mJSbFqUzV/h5EYImob/EOHpducOdv//NExF8gykJkAc94AGyDH3e9M0zD+frGqemsT/GM21ul841r4gRAIZu6Oz1wHhgvECoHlYTxjzS3OhSOF0TFdYq3vj3PlClQUaVazfUjgtNVTwSZvu2BcuUTEk2ob/NZ//NExC4comaAAEvQuO0r/FpfaaBXXqWLVA0Wg1HmnQ3gt7tSKsdRBgoIARikSKSTu7i46zBldsjZNvLm9V8VLaaJ9PT0PMcePH/lKKGBhZ+mig8yYEZns5mEm0WLO5ux//NExA4UIZqcABsGlMgmCisd0q0vcICYulorwjWTmENfedmkx+8nT+lkcZnjIJ5Eyp3fn3swogSyjoAQqEAsIVjRdLodjIFW5Kk3PFh//oqk34sgAkCCNGIxyHBdzhSt//NExBAT8S6gAHvScEpFuBPqIf4/yDnZReHBSRxbBYBBcqBkQFdUIPfqv6/3Yyvft1/01thKJRGFQdgtxwWQCplpkAzAhFlM22d4Vlqax/rPjTIrlX5hGgT9b9j5hfZy//NExBMWCXagAMZKlK69NzMcT0OY6KwPL2dDjxE602OzsVFGisx4mtQ88RfiNW+Y1ZP/V+qP4nZrC8YZEBGuiD01O7NYQwBcK0KIGm5zeZkqdFU90Qa2HNNszAWiNWO6//NExA0VkTawAJYwcGqmiiOeVecZEcnqvjnaUQmMZ1R1K8w74ZBv5ValRcJHx+L2dWHY3b/90WfP/Vv995V1Y5+8bedJh2r1yw45QEdZKhPxIJ6X2prV7JgaQBANXTQB//NExAkUES64AG4ecCyJ8jsdlgyAqKWZL+RwQiB/33cevBkFBAm0sQXqmE6Xa3hxLcQceg6FXJVulj3tI9tEpWDqPS+9Vxq+XsOJkLiUg5nf3lvllfWTIIPE/vk03IeP//NExAsUYTK4AJYecHdVHCZyBJpZQ/lXRtMhyEiv5fXjNJBZkafSIcT4rjEuuVTCO41yWMjzXfPYmfWC8Y76tJHix5JH08J67w4ewQORtXbr7/6l+oNFCqTonuigUAFL//NExAwS6Ua0AI4YcFctM9MjUvKK7coXdZiwyxz8YByGd8ttDonGnSywEwGhjHkCZonBQ5ksstRXmarVtl81dZWtOTWGKkH6C+Zd/1ow7GQY6BwEiotI0zADiDl2NXVa//NExBMSUUasAI5acAkKC0WfNb3Xczn/SJpH/Hamp7qDlIHjVJcNoikvRSUVCdFxBaklD4g9lTFB5IsT06wHiHhX+mrDDmepQIAHjrX3cv4RBJY4TnOs6x1cj+GH7396//NExBwSaTKkAMZWcN8//kksv+Tc0b30mCU9sy0lGAE3zCdBiWtY3YO4nTFXOp91Qsea4Nfq/////10uYn07z7PcCDzenXwh3WcjsXyBoDShJqYh7KrGaleM2cpVfrRq//NExCUSkSJ4AM4ScP2f+kR0mn/FZohJd9srLhlJPVpsrJ4iapODSuUs0DXbvV4qMHqVDkkRovWdAusC1CzlaL8hpUY0A5DYtpSouimaWc3com2rn+RFfKkEwCEDeWjh//NExC0RWO5QAMGGcGqYSEsaPETzF7/qe+oJm++nt3q/TpD9/WoxZGrZu1DUDLCrch0mEh8GVtUVeiRNcZTsG4+KVjqhaNeSHGBQiCjSo0w6dYwDlWrLjxc+VSESa0bb//NExDoR2KJMAMJGTNDFdrnvlvt6PoL+X/1VV4JHX9dwyPMAQCaNpApFhAiEQ9QERB6SjknjiAGFwIGFB8sxYHB8+cUPL40Tj2oC7yeXE7doPg+Xa1d3l29z/3p/voYX//NExEURsGpUAMJGKD+pQ/Jvxe5u5X3F6KfnsInlYwwhKB4fjpjjx4lSfgZw50epJo7Aaa2bhOG0na0rIrg3aUismY38eIxqNXoe5yUeP48NqigLg3D868gaPcelnoHC//NExFEhaspoAMPQuLonEGfpTuO0iYLu354IqER7yBRCB2kUhlEVJdxx2nFFtWkpTu/aRc6V1/vCFnvOFOGAKfCqZ88/GBrBGYjEVB5HMNVY8zihgYSXTa0OykJ0BDQ2//NExB4ZkbqIAMJQlDAClwwEQUDSowigmkYC46KZxSlBvZzhMeMFWUciEm3SM+09a19NKPmuvMcf/zVaxTD3B8ytxF9M2GwmEWO11zvXrcoVFA8w8qqWSCvAIIcGHRg5//NExAoU2OKQANYwcCw4RAjTcAHRNGCRNX6MgSAuy6VChEDVPzsAsrS7hHLb9LB00YcdywctGeRPu6T2z8og1r7kVL1xwHE/meqk9f///OObhw4tkhG1tYbiA4wYVK32//NExAkUKOqgANZecEORyUC7GbP6Ksh8drl+KIXQ9azX3DWfLjaP9LuxBQmiN00kLBoAfoyrL8NRwhrgqzCOJWti+7gQVfHDid9v/9IbINrkNCQtUrPMqUxYVKGjiDlA//NExAsUKZKkANQalHosUv3hliGDifYzCAHEi5iKEakShF+Q40eoWk1WiiFiIeqTs8BfHumfCYGSJmYCMjyZBQjA8FMYKbQbv/v79euZ6X3X0V3PHB4zALVf0maip9Tc//NExA0UoZKgANNalDViTijEWEEqkkDeIKVEKMs0xOugUdQ+FubBynQk8aB7LOA3BPUmKg7EdFTgtYXFBRmLcgG84a8w9LrfmGzFjrUker9EOIV9Mc3oMI6IidCpmAJh//NExA0UeZKUANJWlal0+8omzBEUBph6wOhysRjDcYq7/23f0Gmr5VDn4hEsagAwIxcblQ7YtRjzstySdVzWKfJzmnf06/v+N17Uqtblrcmi4nJmoDIUhB20FHdLECpG//NExA4SmS50AMvMcIKsQVeFiDGfvlavEpQmnbWXHrC+Puszztyv3/O3/6yTmhLabBKu2+fMttaaMeVBp/sLD8jBlYz//////VVKpz3dcIzkXewlw2nurF47Zjc6BDjx//NExBYSMU5sAMFGlIRqpdF1QjXPr+jGhfHyrsEEQ33+uhoRciILPrR4wywuuw/cyP4wMW84/z/Ul2NUuQVPqaKYhmDxE9IJKtuii4dR7Wdwt937G0S7bB3+uf/bknPC//NExCAQ+V6EAMBElJzjEadLX6MUryMpw4fOHwjbCzThaKv9BjaH0k72I1t6Kf/mlJVTV2jGS0ExBwYi2E1511s8VO0L3YrtyNZRf+v/f+f+b2LBeb3BlenXSdyhkTId//NExC8R2aaMANCQlJxEDRfh3LupPESdiKHCvk68vLvAjP///TWS0Vt+B8Ii4geccgwqmoZ+xl2lwfh35G/3/3/n/GdY0DAqrFgsHaQZ8EvNsNMkaIJ0aqZWMKStDJg4//NExDoRaZ6UAMiQlEjiG7ObBRDGf///Wsas00UR4VbZqJu8ZN3A97tITCBnYH4V+H/79PB+3lugFYPFRmoaD2spK1nqi4TS7dY+rsxvsgdVk4p3dXt/qPZ+WbbT///1//NExEcRyeaYANCamNXHPCJghUSzlEF+Z0jpSG1MKnF3qBG4v1P/p5/v+Jr1BvPUkBcEwsaiPpPmkTEnsTJrqg2bFR8viWTbnPQWEQWo9sqf9Kqp3lZ3CtfSYpDmI4CU//NExFIRCY6kAMlWlAkOV59QSMyZvEgzjTz/Jn8gfoD4c3DYPa/Y8ANEax5AfNWvWII1a5J3zM38z/EfxHbDt0OmM+pn///V/XWfxzuIfD0HhDQsBg2aDG2KV7keEXzF//NExGASWZKkANHWlA4/FFsnHmyapDJptQWXhvoMGEeCzVQxVLaUJUchBGDYembai9U6+j7IWOMJhVIOipzeYX////nP1lzapLWcYL3h3PDbzjQ0YbCGgnKaz+03iafk//NExGkUKdagANtUmBNd8F9e4uW9pJMq5JJH9FoN1ZSB0dG2SSOyppJNjB5AhDR3cLv+HVzLq/m/qb+1zTlsqTxIsIf/o///9FW33PMQmpn4o9MgYMCQ46UmU+StDY1n//NExGsVCZ6YANrWlL4m30oS7v5V2TNKzOVtndCsosWEgQYl6xYtc6+pn6a+GkWMMO4777z2jZeWvEU/am1AFYuMqccJBWhEtDYWJlfQXsX9Du6X+vVEXVFZzCEREPFA//NExGkSISaYANpYcUJU0eHB4UCOUEoLhEWAiKCgTALkEtqDOASMhz6nxoIaQzM7JWjM4ZteThUaGcdorcvJCi95bf2z9Lr2/bvP9elNyfmaUmk/OdO3vM0+Z79/fnJm//NExHMgas6gAHnYuZP3++Umne5KWQD4D45YWnaUEKerlt////fS56IYddRqxzzy5KaUHgmKjQk+vXHaw7Kx2nWbGshsruYHq7wcKRyRyqjH28RbN3XbLmJP1vUxqrGX//NExEQcWt6sABHYuZOn0tpm/RrLqP6OztPjmv5NY8n/mae9+dt93e7spNL5r9q49M/bMjDbNTxUwNX////8m/6uefP/K4x2NTyUmErNPnZeTN0wmkbWeeH0BJBUtPD9//NExCUSkdK8AABSlayqCeefRqrQz05lJIVTqU5U42s9j/91L09u9v8hCT99dvBv356Vz//78/+fvvec7x325SnpbsUs0MSVyKQ823SYydTU7TNdJIdAHJCh0NCyL1Bd//NExC0PIcrAAAAMlG2EBDu3ij2WxyqBalSCYiX/////z///1fnVbUf+koicuruecOhU9QKCsZOmqm3IhmToJl21kEOzWunbaskOVG3w1lYZ9FrvW/Pu+o3/5/vO9thw//NExEMR4ea8AABSmTUd/be1X00CX////++/9///38T61oFgRQapZtfO14jpxp1BiKzwQ0bn8JHWtVVT7ppJLUA2JAG48VytizvZQeoCV/CQZHXpVFVKleVmtJRERHFi//NExE4RGeK4AAhMmNDsscgQjQvfjMOBEd0B8F4/5FzP4T+T/936LBuB61VuzSl9W6DSh4Wz5bN0MBjGEgGHxI6HSoKnSIy08GpXp03efM1kA5q6lS5oLxAMCIc0WO4p//NExFwSKY6sAMIKlCfwCBmtP8w05T/p/NaZYPJqAziRSnymHi2adZ81tSPvnT6b1GNQR2OQmBI8H0F9NY9ilef3FuRrgxaOUsMg2l5TZTkFAuEah0higtZiM6RDoknZ//NExGYRUS6oANPacGThfKC1LDAUEEUTElNaRm2iXT/QN7rMSYGwEHN/UnXGCcS39xrXP1QmIxOyGrHRBuLPwI9G4NmNifCqKTf7ak56/Klc8+52jodWqbwaR4SfEK+///NExHMRQRqsAMxacPNqf5g01jMFxvj4YtHVPlvtqHvBrT1KleHcpkzbYDhNiJjmo/PCnZZBXluWaMuR42r6phzx/BYpsao5nhN9sI+VBTPhT73/LnPtWJr/DFExNiFE//NExIERGSKoAMvecO4r/6nn07d0tYdxz6locZUEL2OVpWYZWZVQKTHg7URLneM4bmnWrNTFH18mprXnUCtlQuLgxSpz1XV/u53bqg2NjMGm/9eJRiCBlT3kf////0pL//NExI8RKSqgAMvecGifW5gCiNbLSyyQrNS/5pg+ZYOgXo4hNgdUQREJS2XSdpJooL31Nc9FB0PXGA2GAueBZrmK/X5XVVU0RBV3//UeiIKVMUkVGOeEAABPiN+nYmAc//NExJ0SKRaQANPWcDCJRmcWaMQrXpZwVBGvRqGHiis7mjuqWKiDYMmgCYMAMgxw31KG0b93d6f626ExMIi0ZgUAgUPm85QYmHCbBewxEGjKAZkzdn4ZOiq7uFR9qwKm//NExKcRGRZ0ANxQcARgGdIiYLBcLy51Q9bXPDp1Uraj9F3r2ofrOq7re//+roUxwNVRF2UTlAiUQ92qbdn4/jYfHPHPK6QuQQg9iHkTFkBf8S8lA9tN1pyZIOIAEeRM//NExLUPMKJUAObGTAoScARxWosz8gh5MihcYMvi/MSDj+Mv/QQQT0zhgdLhYLhh/035cLjEQMC4blNhxDsGiKr/9qCHpvkgOw3WtJTppn1//+t0M0aaIUEG0XRNCoso//NExMsRoFJMAVwYAJqfPHcFksazjwESLorDMjBih8zhwzataXY2l6tTu5hayiE5a35ebHnG5m5zyZBxwJBIJQ6hSA+CCO05Zmk6UOLQNOtM3Wfdu4quIj/+an/+v+Hv//NExNciMyKIAY+IAW3v/r0j0gqCwdfq////7TCiyxiRgV8hmZCYrIaMg0JNJTUw8AaKwmMc4dOmtvHm6zANBReSQ8HeVeN9V0fm+Fk0QT3S6qgXD2QC9sKUZhYzqpIB//NExKEXecqgAdlYAAysEsBAakkDp1jGXy+ObdWzfs1Yem800nqWAGtyz37v//qIVo7B9bG8FFzFhIv8AmfBKbRlsT5n6HuLAJGP7X0MB3rKuRvwpEJm31RG3AVp1P4p//NExJYaWZKYANPWlCgSsXZ+HjXAodoYLXhwSKzRYeyIgKDzcxp0//4ruEv/rQd1N5lLf///+/1p/HJpItAkOVQ0w98aQdBmr9hjl9oZAa3mSA4dY0fs28uUX5w4/MJH//NExH8WAY6kANPQlEbNTTcMQCgK0a0hS7gL1Ti/MBh1wcFRW5PimF/y/4/ibnbncclESmyykgR6v//+3oWk5XQ8AQPZKuc9RFvPAMAnoYgPnD4fSY+iUHb4Kp5Hmv1v//NExHoV4ZqkANPQlHu4yZblSWHFNEIdnjbjj3ObHHONiMeacntp0fVuOgipqn3cjI////oVlUC0o7kHnhwyGIIXNbk3wIJaaBOALiPIELnEelY6mpRss1W6u9enWXet//NExHUSkYqkAMrOlLRtYOIESzY5MT3sZW0+ZmbV6ctbrNLQyCrizu/4dS264HJMjej+wFxkuQAMhAWrIq0tULzOW7qpV6Sbl5+940tF/cbGH/1/+NQsFIu5TS5oXXf8//NExH0R8SaMAMwYcPL9wymMhB/M6OIP0ZMPOlP/8p61FgVirsGGrZ9I2r54yqJGxChgICpzDR3QIsZU7CX7w27D8c1lz/oJZj+g53Iv58I5QPsDCKYNs4LZhB4W/f+n//NExIgSISZkAN5GcP7Viu3/9apqbvqGBdemEColWtQwePzloPROYAQAcfXCwGcmYxQX5QsArTvlvf55wf/3BtseF53vPxGvoPnqSOHg52nnr/7d3oiBF9GKUcirMhBB//NExJIRSQJ0AN5GcJ5AIpq3AQxJox03YWCEbTxAnFuZw7+M0jvO/qQ//I5lzc9D2AF52/4E+WJSy3XnLQmy0nz431V2II2ccn///WtosP0whOIPAsZzCiHNnBUcBCjA//NExJ8RYTZ0AOaMcFQQC6ryfSPde3mPDsvj1rW4/Q/qZjaoaU1v+6tYkBw5zyIpBXw4ERrp1iJ7MBcIw4ZFn//9VVyU1CSn4uI2psLno9sBYAVzQFfWO6apvUQTy52p//NExKwRgS58AN6McG8OXe9/dH0MM/Mmxppg1g0kyO0Q6pGCJ8Pwl6lXcEWsh//+7/////Uqi87KxAJH4ENLTEhgHkl6VNgQZNjjK16cEyARvdKWtIuK0RbF4JBT9lsu//NExLkSGTZ4AOaQcLP5z+GrkUz1dnLVlhbJYClqIHA9tARnpGOeNTLHPjDBXdmCLurG5RGqLe2of3m+87h6/xr/Gtfx8Zkv1FcOIoKWKoxYm0tBvmESkqlGaPNuswMz//NExMMRSTaIAN5QcLqCYOg0RWeSUSEQ7dmB42F2tbdeuSCp4x8QV3R2I4hRAlt0AMxtMkOLW6vNBVe+wQ+pJcVziQ/6tzzulRB7KC4vOjdyzKj/6K87/ZS3TmRy/e/T//NExNAa0a6UANYelT/7m3hqGwyeIEGJ/////lBCirv1VtCoZFjEgrREfsZX2EYluLSlNXko2QpqO/g0lCSEHVgjycyqa17S6FiEwQZ3A4QuzzO8hK6cHOE7bKVkrHxe//NExLcdYc6cAM4YlCXnhVtaur43XGrVniPXCNFhyiyXvChlA4q1XvTV7+5oR0eT67YCmdP2MjD6enqJpDyJqdhoLoY5EJKhiOJSvkVMzJOt/68yBRF6IwoCjiiMnRJp//NExJQXSUasAMYecBR6bjf0aFp80ohByZmI1Nnyx+pZZAzJqINb3uwW8FZBGEjq//+WZcOdpQucrBaut2I2qf31uIOhOU88XmNoZHjEgbZisO0MFtcS7t4QayyRX8E0//NExIkXMWqsAMYMlYtXUjTwrJFml+4EppIAc/gudL+lou2mKyU8rvLnOhWCRRbrOdu2iSWOLZEjhEn1LXvo2JsJUqsoUgAXiJJpALxF0bSVjMCuc0+SsT5ablYh56HF//NExH8XgU6oAMYYlAHlTp6/LyyzzByAoDzp4QypbV8o+2zOzTadnWrW+Q8JxGCl/pX/xUPQ2k9l0xY12iVXAnkc+bwgYjMct4haUjsjKdVoa7U13lH3XY7ViUwsLk3u//NExHQRYSa4AIvYcBSLiolCtk4OD9EpXsx2lm1vYb2l16kRZSnP80OML5KEVIVkjYBmktueo6o67JiSpLQz8UT6VbUUaV97QnFLGvOUYsKSpAbEpCRjo4JdKm0UUEIR//NExIERsSa0AMPYcCSn83Nl2gV7qO26Pv9K/7qf1HxmSvcq4kugZ4ZkIDpE+C7Yezh+HbN2VU3Zymv5Y4/JZdVW5CNpzdrw0dwYtU3Ca749BGOweXXWEAavVRZetKGe//NExI0R6Sq0AMPScNuXyziBcWkkojq13UFi5q4TAD9yUWTRLKOn2TJpNRGGrnT3XqXqX6/t6VdeIg+kkXjqTJY3L2ismRadJY96PabiqXq0HLw0sz6BdZzGVD1c9WBU//NExJgRuSa0AMYScAy+qjwVpylOY7wJeShiNUU+aJtBa1bfP015ForaeQSLiZwJKWnkSOgYkxSQ/miBeHkcWWLWtTndXftaudYZ9Za5YUfCg0Rho02lwrvILhYq2GKS//NExKQSITaoAMSWcKVNpL5o56xf5ZdeXX77aatqm9KzkOCMVgVColi1lHjo1IoXIlSx9NXOk1tGhJT//////+lIFSLKzMTAULJwBGdx46IFWjrSFC1urRaDTVo1ch7u//NExK4SAZacAMqalBWtfqmq1q//uv1/b4beFpgdEQRgUiKSDa1FrFUzcsBbue+OgH/6VTVxw0VeAaCBBgJRTEQgyBdFQAxUCd1CU2RYePTlK7+ISigsp8BwJ4EIbrUJ//NExLkRwTKUAMvOcGbDti4w0BEoscgc0gliDxcNIaFi3G7w6oK2RqpwijBKbj5mFdKh4qhizLTR1dPQ97fHVETXbh1S1xPMcK6SmnTorNfQwaZ+ygFMPoO7ua9oIT+R//NExMURUSZ8AVlAAPZMJfEVa6J54A5qKbw1gWAuG+z4BsHBzY0WI0PQevoutYrFhSMvugcMSXKZ4fBwj5+SZkaGi0B4E4d5kXU/6lppnDQ8M40Hx7GZoRvtzNzdCeTp//NExNIg0l5AAZtAAZQLTQewxxMyCTjJn/9O6C0U0FXTH41JgyHIJUaGRQPmP//6akEF09vNz6CSJdSQPnNaBusWjFDEdA3TccnAZKUiRfRKykviF/3Smapf8Z//k03G//NExKEf6x6AAY9oAZEmrrG4P//R1FEnkONysV7aEX7//8chkqC75XNGoUb+3///5zL65J+Xd0hZzKnL2FdOwp62////7AjVSipGY6DuZH8fvk9V7rwld/Bx//////Kr//NExHQgyqZ0AZN4AaFBmjyqGGrMUjH7/sXF0tUtwtLO2ZbH7Kyn5g/UamWF5eRreT1jZhQ+LOWUbcUMs4e9jTVGjZNFxURgdKowTKqzE6ssKuqjgbiIDdBrj5sp5l2n//NExEMdinX8Ac9AAUiCklJ7aFVCUktaSaGouUNU46Wm4ZhtvF0y3+o6nR1pGScayrNlSe7dOX3aZcmCvJo1SSoAWnJDu6nrrbarTlAlVKLTME2E3Kw+rsPhvzGGMqJM//NExB8WyS38AHpGcbVjIGEFo6sdEsQY+rka5MFEOBicERJpopj/v+UFsUTTcy+LwKwS65lj5J+/xp77dvXVV873dpcb+9/7GVULEJafxqMtgaAIMBkE8o0q4cosxBJH//NExBYR0MX0AEmGcNFoOJXQxLLwmCwPHjEVEYCCoZBYWD4SJAUGRY0KgIJiojMhIsJDU2Evj2f/+z/SM/rVCUTjtY3AlLxfL6x+m4nBtpVKeeSEiER1ReFrFSxYupOr//NExCERYbWUAGJElFk0kpw1RUR/6//ZyoqI/Kipf9VReUwMGI8Vb/W3FhdlYq3+oVUH1AgCAJnygIAgD+CBn/KAhg+CAIHC4OAgCDhOCAIAhBwEAQDEEAQBD/6wfB8///NExC4RyAHQAAjGuBOD4Ph6D4Pg+GFg+D4OHC4Pg+CGD5r/Lg+qIGgaPFQaBoGniYGgaPf/KgqCrlgqCoKyoKgqCzxKCoKg1BUFQWPRKCv+oFQ1LAyCoKwaBUFQ0oGQ//NExDkSmAXUAAhGAFQVOlgVBUFXCEFQVO//LA0DVUxBTUUzLjEwMFVVVVVVVVVVVVVVVVVVVVVVVVVVVVVVVVVVVVVVVVVVVVVVVVVVVVVVVVVVVVVVVVVVTEFNRTMu//NExEEAAANIAAAAADEwMFVVVVVVVVVVVVVVVVVVVVVVVVVVVVVVVVVVVVVVVVVVVVVVVVVVVVVVVVVVVVVVVVVVVVVVVVVVVVVVVVVVVVVVVVVVVVVVVVVVVVVVVVVV//NExJQAAANIAAAAAFVVVVVVVVVVVVVVVVVVVVVVVVVVVVVVVVVVVVVVVVVVVVVVVVVVVVVVVVVVVVVVVVVVVVVVVVVVVVVVVVVVVVVVVVVVVVVVVVVVVVVVVVVVVVVV//NExKwAAANIAAAAAFVVVVVVVVVVVVVVVVVVVVVVVVVVVVVVVVVVVVVVVVVVVVVVVVVVVVVVVVVVVVVVVVVVVVVVVVVVVVVVVVVVVVVVVVVVVVVVVVVVVVVVVVVVVVVV\" type=\"audio/x-wav\" />\n",
              "                    Your browser does not support the audio element.\n",
              "                </audio>\n",
              "              "
            ]
          },
          "metadata": {},
          "execution_count": 6
        }
      ],
      "source": [
        "from pickle import TRUE\n",
        "#Text to speech\n",
        "!pip install gTTS\n",
        "from gtts import gTTS\n",
        "text_to_say=\"hi prathyusha good night\"\n",
        "language = 'en'\n",
        "gtts_object = gTTS(text = text_to_say, lang = language, slow = True)\n",
        "gtts_object.save(\"/content/gtts.wav\")\n",
        "from IPython.display import Audio\n",
        "Audio(\"/content/gtts.wav\")"
      ]
    }
  ]
}
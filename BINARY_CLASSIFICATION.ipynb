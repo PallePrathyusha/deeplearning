{
  "nbformat": 4,
  "nbformat_minor": 0,
  "metadata": {
    "colab": {
      "provenance": [],
      "authorship_tag": "ABX9TyPrYEP52RFfmoGlFysjb8jC",
      "include_colab_link": true
    },
    "kernelspec": {
      "name": "python3",
      "display_name": "Python 3"
    },
    "language_info": {
      "name": "python"
    }
  },
  "cells": [
    {
      "cell_type": "markdown",
      "metadata": {
        "id": "view-in-github",
        "colab_type": "text"
      },
      "source": [
        "<a href=\"https://colab.research.google.com/github/PallePrathyusha/deeplearning/blob/main/BINARY_CLASSIFICATION.ipynb\" target=\"_parent\"><img src=\"https://colab.research.google.com/assets/colab-badge.svg\" alt=\"Open In Colab\"/></a>"
      ]
    },
    {
      "cell_type": "code",
      "execution_count": 1,
      "metadata": {
        "colab": {
          "base_uri": "https://localhost:8080/"
        },
        "id": "-1P5JneTL2KE",
        "outputId": "5e59c82d-a275-4ff2-e617-21a5691d9d10"
      },
      "outputs": [
        {
          "output_type": "stream",
          "name": "stdout",
          "text": [
            "Epoch 1/10\n",
            "20/20 [==============================] - 1s 9ms/step - loss: 0.7087 - accuracy: 0.3766 - val_loss: 0.6915 - val_accuracy: 0.5500\n",
            "Epoch 2/10\n",
            "20/20 [==============================] - 0s 3ms/step - loss: 0.6830 - accuracy: 0.5516 - val_loss: 0.6617 - val_accuracy: 0.6250\n",
            "Epoch 3/10\n",
            "20/20 [==============================] - 0s 3ms/step - loss: 0.6638 - accuracy: 0.5562 - val_loss: 0.6376 - val_accuracy: 0.6125\n",
            "Epoch 4/10\n",
            "20/20 [==============================] - 0s 3ms/step - loss: 0.6456 - accuracy: 0.6047 - val_loss: 0.6181 - val_accuracy: 0.6438\n",
            "Epoch 5/10\n",
            "20/20 [==============================] - 0s 2ms/step - loss: 0.6276 - accuracy: 0.6578 - val_loss: 0.5993 - val_accuracy: 0.7063\n",
            "Epoch 6/10\n",
            "20/20 [==============================] - 0s 3ms/step - loss: 0.6087 - accuracy: 0.7094 - val_loss: 0.5806 - val_accuracy: 0.7312\n",
            "Epoch 7/10\n",
            "20/20 [==============================] - 0s 2ms/step - loss: 0.5882 - accuracy: 0.7734 - val_loss: 0.5620 - val_accuracy: 0.7937\n",
            "Epoch 8/10\n",
            "20/20 [==============================] - 0s 3ms/step - loss: 0.5661 - accuracy: 0.8031 - val_loss: 0.5397 - val_accuracy: 0.8188\n",
            "Epoch 9/10\n",
            "20/20 [==============================] - 0s 3ms/step - loss: 0.5430 - accuracy: 0.8328 - val_loss: 0.5176 - val_accuracy: 0.8500\n",
            "Epoch 10/10\n",
            "20/20 [==============================] - 0s 2ms/step - loss: 0.5192 - accuracy: 0.8406 - val_loss: 0.4939 - val_accuracy: 0.8687\n",
            "7/7 [==============================] - 0s 1ms/step\n",
            "Test accuracy: 0.8350\n"
          ]
        }
      ],
      "source": [
        "#2.BINARY CLASSIFICATION\n",
        "import numpy as np\n",
        "import tensorflow as tf\n",
        "from tensorflow.keras.models import Sequential\n",
        "from tensorflow.keras.layers import Dense,Input\n",
        "from sklearn.model_selection import train_test_split\n",
        "from sklearn.metrics import accuracy_score\n",
        "np.random.seed(42)\n",
        "X = np.random.rand(1000, 2)\n",
        "y = (X[:, 0] + X[:, 1] > 1).astype(int)\n",
        "X_train, X_test, y_train, y_test = train_test_split(X, y, test_size=0.2, random_state=42)\n",
        "model = Sequential([Input(shape=(2)),Dense(64, activation='relu'),Dense(1, activation='sigmoid')])\n",
        "model.compile(optimizer='adam',loss='binary_crossentropy',metrics=['accuracy'])\n",
        "model.fit(X_train, y_train, epochs=10, batch_size=32, validation_split=0.2)\n",
        "y_pred = model.predict(X_test)\n",
        "y_pred_binary = (y_pred > 0.5).astype(int)\n",
        "test_accuracy = accuracy_score(y_test, y_pred_binary)\n",
        "print(f\"Test accuracy: {test_accuracy:.4f}\")"
      ]
    }
  ]
}